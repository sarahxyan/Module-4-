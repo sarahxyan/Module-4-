{
 "cells": [
  {
   "cell_type": "code",
   "execution_count": 41,
   "id": "6ae5daf1-6e14-437b-8b92-eed1a0d035ec",
   "metadata": {},
   "outputs": [],
   "source": [
    "import pandas as pd\n",
    "import matplotlib.pyplot as plt\n",
    "from sklearn.cluster import KMeans\n",
    "from sklearn.metrics import silhouette_score\n",
    "from sklearn.preprocessing import StandardScaler\n",
    "from datetime import datetime"
   ]
  },
  {
   "cell_type": "code",
   "execution_count": 2,
   "id": "2008e8cd-487a-458e-99ec-f00b3572f03f",
   "metadata": {},
   "outputs": [],
   "source": [
    "file_path = 'dataset.csv'\n",
    "data = pd.read_csv(file_path)"
   ]
  },
  {
   "cell_type": "code",
   "execution_count": 10,
   "id": "42db1150-345a-4c5b-afa5-2a1a1fc3c62d",
   "metadata": {},
   "outputs": [
    {
     "name": "stdout",
     "output_type": "stream",
     "text": [
      "<class 'pandas.core.frame.DataFrame'>\n",
      "RangeIndex: 10320 entries, 0 to 10319\n",
      "Data columns (total 7 columns):\n",
      " #   Column        Non-Null Count  Dtype         \n",
      "---  ------        --------------  -----         \n",
      " 0   Unnamed: 0    10320 non-null  int64         \n",
      " 1   timestamp     10320 non-null  datetime64[ns]\n",
      " 2   value         10320 non-null  int64         \n",
      " 3   hour          10320 non-null  int32         \n",
      " 4   day_of_week   10320 non-null  int32         \n",
      " 5   value_scaled  10320 non-null  float64       \n",
      " 6   cluster       10320 non-null  int32         \n",
      "dtypes: datetime64[ns](1), float64(1), int32(3), int64(2)\n",
      "memory usage: 443.6 KB\n",
      "None\n",
      "         Unnamed: 0            timestamp         value          hour  \\\n",
      "count  10320.000000                10320  10320.000000  10320.000000   \n",
      "mean    5159.500000  2014-10-16 11:45:00  15137.569380     11.500000   \n",
      "min        0.000000  2014-07-01 00:00:00      8.000000      0.000000   \n",
      "25%     2579.750000  2014-08-23 17:52:30  10262.000000      5.750000   \n",
      "50%     5159.500000  2014-10-16 11:45:00  16778.000000     11.500000   \n",
      "75%     7739.250000  2014-12-09 05:37:30  19838.750000     17.250000   \n",
      "max    10319.000000  2015-01-31 23:30:00  39197.000000     23.000000   \n",
      "std     2979.271723                  NaN   6939.495808      6.922522   \n",
      "\n",
      "        day_of_week  value_scaled       cluster  \n",
      "count  10320.000000  1.032000e+04  10320.000000  \n",
      "mean       3.000000  2.203233e-17      1.458333  \n",
      "min        0.000000 -2.180317e+00      0.000000  \n",
      "25%        1.000000 -7.026167e-01      0.750000  \n",
      "50%        3.000000  2.364019e-01      1.000000  \n",
      "75%        5.000000  6.774856e-01      2.250000  \n",
      "max        6.000000  3.467197e+00      3.000000  \n",
      "std        1.988434  1.000048e+00      1.117311  \n"
     ]
    }
   ],
   "source": [
    "print(data.info())\n",
    "print(data.describe())"
   ]
  },
  {
   "cell_type": "code",
   "execution_count": 3,
   "id": "8dbd82f1-2702-4a9f-9070-a3cd59870ad8",
   "metadata": {},
   "outputs": [],
   "source": [
    "data['timestamp'] = pd.to_datetime(data['timestamp'])\n",
    "data['hour'] = data['timestamp'].dt.hour\n",
    "data['day_of_week'] = data['timestamp'].dt.dayofweek"
   ]
  },
  {
   "cell_type": "code",
   "execution_count": 34,
   "id": "a6acaf02-633a-4d6a-81d3-e9eff6fc606e",
   "metadata": {},
   "outputs": [],
   "source": [
    "holidays = [\n",
    "    \"2014-01-01\", \"2015-01-01\",  # New Year's Day\n",
    "    \"2014-07-04\", \"2015-07-04\",  # Independence Day\n",
    "    \"2014-11-27\", \"2015-11-26\",  # Thanksgiving\n",
    "    \"2014-12-25\", \"2015-12-25\",  # Christmas\n",
    "    \"2014-12-31\", \"2015-12-31\",  # New Year's Eve\n",
    "    \"2014-11-02\", \"2015-11-01\",  # NYC Marathon (first Sunday in November)\n",
    "]"
   ]
  },
  {
   "cell_type": "code",
   "execution_count": 42,
   "id": "392c26c2-2b05-4e93-9303-b8e926c1d7ed",
   "metadata": {},
   "outputs": [],
   "source": [
    "holidays = [datetime.strptime(date, \"%Y-%m-%d\") for date in holidays]\n",
    "data['is_holiday'] = data['timestamp'].dt.date.isin([holiday.date() for holiday in holidays]).astype(int)\n"
   ]
  },
  {
   "cell_type": "code",
   "execution_count": 21,
   "id": "4a22fac8-839d-4f9a-a883-8240cbf233e5",
   "metadata": {},
   "outputs": [],
   "source": [
    "data = data.drop(columns=['Unnamed: 0'])"
   ]
  },
  {
   "cell_type": "code",
   "execution_count": 11,
   "id": "bf77b724-7adc-424d-88f5-869af8f11d8c",
   "metadata": {},
   "outputs": [],
   "source": [
    "missing_timestamps = data['timestamp'].isna().sum()"
   ]
  },
  {
   "cell_type": "code",
   "execution_count": 12,
   "id": "693855b7-8d5c-4282-874d-af67a74bbf2f",
   "metadata": {},
   "outputs": [],
   "source": [
    "data = data.dropna(subset=['timestamp'])"
   ]
  },
  {
   "cell_type": "code",
   "execution_count": 43,
   "id": "80fae4dd-8aea-483e-96fd-69bba9e5974c",
   "metadata": {},
   "outputs": [],
   "source": [
    "scaler = StandardScaler()\n",
    "data['value_scaled'] = scaler.fit_transform(data[['value']])"
   ]
  },
  {
   "cell_type": "code",
   "execution_count": 44,
   "id": "91b09b90-3a18-4b1d-bbed-f0ac538df309",
   "metadata": {},
   "outputs": [],
   "source": [
    "features = data[['hour', 'day_of_week', 'value_scaled', 'is_holiday']]"
   ]
  },
  {
   "cell_type": "code",
   "execution_count": 19,
   "id": "cbd15180-2b93-4587-b8f1-42b4c55f24ef",
   "metadata": {},
   "outputs": [],
   "source": [
    "initial_row_count = len(data)\n",
    "data = data.drop_duplicates()\n",
    "final_row_count = len(data)"
   ]
  },
  {
   "cell_type": "code",
   "execution_count": 45,
   "id": "03177eec-a856-4494-b96e-b72ef92afae3",
   "metadata": {},
   "outputs": [
    {
     "name": "stdout",
     "output_type": "stream",
     "text": [
      "Missing timestamps: 0\n",
      "Duplicate rows removed: 0\n",
      "<class 'pandas.core.frame.DataFrame'>\n",
      "RangeIndex: 10320 entries, 0 to 10319\n",
      "Data columns (total 7 columns):\n",
      " #   Column        Non-Null Count  Dtype         \n",
      "---  ------        --------------  -----         \n",
      " 0   timestamp     10320 non-null  datetime64[ns]\n",
      " 1   value         10320 non-null  int64         \n",
      " 2   hour          10320 non-null  int32         \n",
      " 3   day_of_week   10320 non-null  int32         \n",
      " 4   value_scaled  10320 non-null  float64       \n",
      " 5   cluster       10320 non-null  int32         \n",
      " 6   is_holiday    10320 non-null  int64         \n",
      "dtypes: datetime64[ns](1), float64(1), int32(3), int64(2)\n",
      "memory usage: 443.6 KB\n",
      "None\n",
      "                 timestamp         value          hour   day_of_week  \\\n",
      "count                10320  10320.000000  10320.000000  10320.000000   \n",
      "mean   2014-10-16 11:45:00  15137.569380     11.500000      3.000000   \n",
      "min    2014-07-01 00:00:00      8.000000      0.000000      0.000000   \n",
      "25%    2014-08-23 17:52:30  10262.000000      5.750000      1.000000   \n",
      "50%    2014-10-16 11:45:00  16778.000000     11.500000      3.000000   \n",
      "75%    2014-12-09 05:37:30  19838.750000     17.250000      5.000000   \n",
      "max    2015-01-31 23:30:00  39197.000000     23.000000      6.000000   \n",
      "std                    NaN   6939.495808      6.922522      1.988434   \n",
      "\n",
      "       value_scaled       cluster    is_holiday  \n",
      "count  1.032000e+04  10320.000000  10320.000000  \n",
      "mean   2.203233e-17      0.500000      0.027907  \n",
      "min   -2.180317e+00      0.000000      0.000000  \n",
      "25%   -7.026167e-01      0.000000      0.000000  \n",
      "50%    2.364019e-01      0.500000      0.000000  \n",
      "75%    6.774856e-01      1.000000      0.000000  \n",
      "max    3.467197e+00      1.000000      1.000000  \n",
      "std    1.000048e+00      0.500024      0.164714  \n"
     ]
    }
   ],
   "source": [
    "print(f\"Missing timestamps: {missing_timestamps}\")\n",
    "print(f\"Duplicate rows removed: {initial_row_count - final_row_count}\")\n",
    "print(data.info())\n",
    "print(data.describe())"
   ]
  },
  {
   "cell_type": "code",
   "execution_count": 46,
   "id": "61f2fcad-bf31-4a24-90da-30d5562c9685",
   "metadata": {},
   "outputs": [],
   "source": [
    "silhouette_scores = []\n",
    "k_values = range(2, 11) "
   ]
  },
  {
   "cell_type": "code",
   "execution_count": 47,
   "id": "5a754365-b022-4f1a-937d-aced7c8b4f43",
   "metadata": {},
   "outputs": [],
   "source": [
    "for k in k_values:\n",
    "    kmeans = KMeans(n_clusters=k, random_state=42)\n",
    "    cluster_labels = kmeans.fit_predict(features)\n",
    "    silhouette_avg = silhouette_score(features, cluster_labels)\n",
    "    silhouette_scores.append(silhouette_avg)"
   ]
  },
  {
   "cell_type": "code",
   "execution_count": 51,
   "id": "606484aa-998f-45c5-9fec-a44caef6e0d5",
   "metadata": {},
   "outputs": [
    {
     "data": {
      "image/png": "[encoded data removed]",
      "text/plain": [
       "<Figure size 800x500 with 1 Axes>"
      ]
     },
     "metadata": {},
     "output_type": "display_data"
    }
   ],
   "source": [
    "plt.figure(figsize=(8, 5))\n",
    "plt.plot(k_values, silhouette_scores, marker='o')\n",
    "plt.title('Silhouette Analysis with Holiday Feature')\n",
    "plt.xlabel('Number of Clusters (k)')\n",
    "plt.ylabel('Average Silhouette Score')\n",
    "plt.grid(True)\n",
    "plt.show()"
   ]
  },
  {
   "cell_type": "code",
   "execution_count": 52,
   "id": "59e7d8f0-af45-4626-aaa9-2fc97b4fc701",
   "metadata": {},
   "outputs": [
    {
     "name": "stdout",
     "output_type": "stream",
     "text": [
      "Optimal k with holiday feature: 2\n"
     ]
    }
   ],
   "source": [
    "optimal_k = k_values[silhouette_scores.index(max(silhouette_scores))]\n",
    "print(f\"Optimal k with holiday feature: {optimal_k}\")"
   ]
  },
  {
   "cell_type": "code",
   "execution_count": 53,
   "id": "a9cd058d-882a-47f7-8d42-4850892fc7c8",
   "metadata": {},
   "outputs": [],
   "source": [
    "kmeans = KMeans(n_clusters=optimal_k, random_state=42)\n",
    "data['cluster'] = kmeans.fit_predict(features)"
   ]
  },
  {
   "cell_type": "code",
   "execution_count": 54,
   "id": "a04f0c06-cbd3-40d8-a499-8d7fb774d542",
   "metadata": {},
   "outputs": [
    {
     "name": "stdout",
     "output_type": "stream",
     "text": [
      "Cluster Centers with holiday feature:\n",
      " [[17.5         3.          0.60541148  0.02790698]\n",
      " [ 5.5         3.         -0.60541148  0.02790698]]\n"
     ]
    }
   ],
   "source": [
    "print(\"Cluster Centers with holiday feature:\\n\", kmeans.cluster_centers_)"
   ]
  },
  {
   "cell_type": "code",
   "execution_count": 56,
   "id": "24a7d584-3a42-4b1d-9c73-81ef3f2b22be",
   "metadata": {},
   "outputs": [
    {
     "name": "stdout",
     "output_type": "stream",
     "text": [
      "Cluster 0:\n",
      "              hour  day_of_week         value   is_holiday\n",
      "count  5160.000000  5160.000000   5160.000000  5160.000000\n",
      "mean     17.500000     3.000000  19338.616279     0.027907\n",
      "std       3.452387     1.988531   4014.694251     0.164722\n",
      "min      12.000000     0.000000    189.000000     0.000000\n",
      "25%      14.750000     1.000000  16625.500000     0.000000\n",
      "50%      17.500000     3.000000  18790.000000     0.000000\n",
      "75%      20.250000     5.000000  22502.000000     0.000000\n",
      "max      23.000000     6.000000  30373.000000     1.000000\n",
      "Cluster 1:\n",
      "              hour  day_of_week         value   is_holiday\n",
      "count  5160.000000  5160.000000   5160.000000  5160.000000\n",
      "mean      5.500000     3.000000  10936.522481     0.027907\n",
      "std       3.452387     1.988531   6700.771348     0.164722\n",
      "min       0.000000     0.000000      8.000000     0.000000\n",
      "25%       2.750000     1.000000   4413.000000     0.000000\n",
      "50%       5.500000     3.000000  10604.500000     0.000000\n",
      "75%       8.250000     5.000000  17043.750000     0.000000\n",
      "max      11.000000     6.000000  39197.000000     1.000000\n"
     ]
    }
   ],
   "source": [
    "for cluster in range(optimal_k):\n",
    "    cluster_data = data[data['cluster'] == cluster]\n",
    "    print(f\"Cluster {cluster}:\")\n",
    "    print(cluster_data[['hour', 'day_of_week', 'value', 'is_holiday']].describe())"
   ]
  }
 ],
 "metadata": {
  "kernelspec": {
   "display_name": "Python 3 (ipykernel)",
   "language": "python",
   "name": "python3"
  },
  "language_info": {
   "codemirror_mode": {
    "name": "ipython",
    "version": 3
   },
   "file_extension": ".py",
   "mimetype": "text/x-python",
   "name": "python",
   "nbconvert_exporter": "python",
   "pygments_lexer": "ipython3",
   "version": "3.11.5"
  }
 },
 "nbformat": 4,
 "nbformat_minor": 5
}
